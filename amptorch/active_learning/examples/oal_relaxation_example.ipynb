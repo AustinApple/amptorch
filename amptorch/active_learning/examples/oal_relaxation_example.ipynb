{
  "nbformat": 4,
  "nbformat_minor": 0,
  "metadata": {
    "colab": {
      "name": "oal_relaxation_example",
      "provenance": [],
      "include_colab_link": true
    },
    "kernelspec": {
      "name": "python3",
      "display_name": "Python 3"
    },
    "accelerator": "GPU"
  },
  "cells": [
    {
      "cell_type": "markdown",
      "metadata": {
        "id": "view-in-github",
        "colab_type": "text"
      },
      "source": [
        "<a href=\"https://colab.research.google.com/github/ulissigroup/amptorch/blob/active_learning/amptorch/active_learning/examples/oal_relaxation_example.ipynb\" target=\"_parent\"><img src=\"https://colab.research.google.com/assets/colab-badge.svg\" alt=\"Open In Colab\"/></a>"
      ]
    },
    {
      "cell_type": "code",
      "metadata": {
        "id": "lKni75ixan9c",
        "colab_type": "code",
        "outputId": "cdbc69f2-9019-4707-d64f-31ade7da05e3",
        "colab": {
          "base_uri": "https://localhost:8080/",
          "height": 340
        }
      },
      "source": [
        "!pip install  -q git+https://github.com/ulissigroup/amptorch.git@active_learning\n",
        "!pip install -q git+https://github.com/mshuaibii/SIMPLE-NN.git\n",
        "!pip install -q amp-atomistics\n",
        "!pip install -q --upgrade dftbook"
      ],
      "execution_count": 0,
      "outputs": [
        {
          "output_type": "stream",
          "text": [
            "\u001b[K     |████████████████████████████████| 296kB 2.8MB/s \n",
            "\u001b[K     |████████████████████████████████| 6.7MB 6.0MB/s \n",
            "\u001b[K     |████████████████████████████████| 102kB 10.4MB/s \n",
            "\u001b[K     |████████████████████████████████| 2.1MB 44.1MB/s \n",
            "\u001b[?25h  Building wheel for amptorch (setup.py) ... \u001b[?25l\u001b[?25hdone\n",
            "\u001b[K     |████████████████████████████████| 12.8MB 238kB/s \n",
            "\u001b[K     |████████████████████████████████| 110.5MB 59kB/s \n",
            "\u001b[K     |████████████████████████████████| 3.8MB 29.1MB/s \n",
            "\u001b[K     |████████████████████████████████| 512kB 37.4MB/s \n",
            "\u001b[?25h  Building wheel for simple-nn (setup.py) ... \u001b[?25lerror\n",
            "\u001b[31m  ERROR: Failed building wheel for simple-nn\u001b[0m\n",
            "\u001b[?25h  Building wheel for gast (setup.py) ... \u001b[?25l\u001b[?25hdone\n",
            "\u001b[31mERROR: tensorflow-probability 0.10.0rc0 has requirement gast>=0.3.2, but you'll have gast 0.2.2 which is incompatible.\u001b[0m\n",
            "\u001b[31mERROR: plotnine 0.6.0 has requirement matplotlib>=3.1.1, but you'll have matplotlib 2.2.5 which is incompatible.\u001b[0m\n",
            "\u001b[31mERROR: mizani 0.6.0 has requirement matplotlib>=3.1.1, but you'll have matplotlib 2.2.5 which is incompatible.\u001b[0m\n",
            "\u001b[31mERROR: albumentations 0.1.12 has requirement imgaug<0.2.7,>=0.2.5, but you'll have imgaug 0.2.9 which is incompatible.\u001b[0m\n",
            "    Running setup.py install for simple-nn ... \u001b[?25l\u001b[?25hdone\n",
            "\u001b[K     |████████████████████████████████| 102kB 2.3MB/s \n",
            "\u001b[?25h  Building wheel for amp-atomistics (setup.py) ... \u001b[?25l\u001b[?25hdone\n"
          ],
          "name": "stdout"
        }
      ]
    },
    {
      "cell_type": "code",
      "metadata": {
        "id": "TMl3V1_Ib7wb",
        "colab_type": "code",
        "outputId": "fd7c6bcb-84cf-4821-9d0a-79a746ff4374",
        "colab": {
          "base_uri": "https://localhost:8080/",
          "height": 238
        }
      },
      "source": [
        "import multiprocessing as mp\n",
        "import copy\n",
        "import numpy as np\n",
        "\n",
        "import ase\n",
        "from ase.calculators.emt import EMT\n",
        "from ase.build import fcc100, add_adsorbate, molecule\n",
        "from ase.constraints import FixAtoms\n",
        "from ase.optimize import BFGS, QuasiNewton\n",
        "\n",
        "import torch\n",
        "\n",
        "from amptorch.model import CustomMSELoss\n",
        "from amptorch.active_learning.atomistic_methods  import MDsimulate, Relaxation\n",
        "from amptorch.active_learning.oal_calc  import AMPOnlineCalc\n",
        "\n",
        "import dftbook\n",
        "dftbook.setup_colab()\n",
        "from espresso import Espresso\n",
        "from ase.utils.eos import EquationOfState\n",
        "from ase.build import bulk\n",
        "import matplotlib\n",
        "import matplotlib.pyplot as plt\n",
        "from sklearn.metrics import mean_squared_error\n",
        "%matplotlib inline"
      ],
      "execution_count": 0,
      "outputs": [
        {
          "output_type": "stream",
          "text": [
            "Please be patient. This takes about 30 seconds.\n",
            "Installing ASE\n",
            "Installing ase-espresso\n",
            "Installing pseudopotentials\n",
            "Renaming pseudopotentials\n",
            "Almost there, setting environment pseudopotential path\n",
            "Installing MKL\n",
            "Getting the GPU pw.x executable\n",
            "Done installing GPU version of Quantum Espresso\n",
            "Setup is complete. Please visit https://github.com/jkitchin/dft-book-espresso to find the tutorials.\n",
            "Installation took 33.3 seconds\n"
          ],
          "name": "stdout"
        },
        {
          "output_type": "stream",
          "text": [
            "/usr/local/lib/python3.6/dist-packages/ase/utils/eos.py:5: UserWarning: Moved to ase.eos\n",
            "  warnings.warn('Moved to ase.eos')\n"
          ],
          "name": "stderr"
        }
      ]
    },
    {
      "cell_type": "code",
      "metadata": {
        "id": "Sj2cB2kV0Yrc",
        "colab_type": "code",
        "colab": {}
      },
      "source": [
        "def get_structure(base_calc):\n",
        "    energies = []\n",
        "    volumes = []\n",
        "    LC = [3.5, 3.55, 3.6, 3.65, 3.7, 3.75]\n",
        "\n",
        "    for a in LC:\n",
        "      cu_bulk = bulk('Cu', 'fcc', a=a)\n",
        "\n",
        "      calc = Espresso(xc='PBE',\n",
        "                  pw=500,\n",
        "                  calculation='scf',\n",
        "                  kpts=[12, 12, 12])\n",
        "      cu_bulk.set_calculator(calc)\n",
        "\n",
        "      e = cu_bulk.get_potential_energy()\n",
        "      energies.append(e)\n",
        "      volumes.append(cu_bulk.get_volume())\n",
        "\n",
        "\n",
        "    eos = EquationOfState(volumes, energies)\n",
        "    v0, e0, B = eos.fit()\n",
        "    aref=3.6\n",
        "    vref = bulk('Cu', 'fcc', a=aref).get_volume()\n",
        "\n",
        "    copper_lattice_constant = (v0/vref)**(1/3)*aref\n",
        "\n",
        "    slab = fcc100(\"Cu\", a=copper_lattice_constant, size=(2, 2, 3))\n",
        "    ads = molecule(\"C\")\n",
        "    add_adsorbate(slab, ads, 2, offset=(1, 1))\n",
        "    cons = FixAtoms(\n",
        "      indices=[atom.index for atom in slab if (atom.tag == 3)]\n",
        "    )\n",
        "    slab.set_constraint(cons)\n",
        "    slab.center(vacuum=13.0, axis=2)\n",
        "    slab.set_pbc(True)\n",
        "    slab.wrap(pbc=[True] * 3)\n",
        "    slab.set_calculator(copy.copy(base_calc))\n",
        "    slab.set_initial_magnetic_moments()\n",
        "\n",
        "    return slab"
      ],
      "execution_count": 0,
      "outputs": []
    },
    {
      "cell_type": "code",
      "metadata": {
        "id": "ibvoqlqZdZH8",
        "colab_type": "code",
        "colab": {}
      },
      "source": [
        "  def main():\n",
        "    base_calc = Espresso(pw=500.0, \n",
        "              calculation='scf',\n",
        "              kpts=(4, 4, 1),\n",
        "              xc='PBE')\n",
        "    \n",
        "    slab = get_structure(base_calc)\n",
        "\n",
        "    Gs = {}\n",
        "    Gs[\"G2_etas\"] = np.logspace(np.log10(0.05), np.log10(5.0), num=4)\n",
        "    Gs[\"G2_rs_s\"] = [0] * 4\n",
        "    Gs[\"G4_etas\"] = [0.005]\n",
        "    Gs[\"G4_zetas\"] = [1.0, 4.0]\n",
        "    Gs[\"G4_gammas\"] = [+1.0, -1]\n",
        "    Gs[\"cutoff\"] = 5.876798323827276  # EMT asap_cutoff: False\n",
        "\n",
        "    images = [slab]\n",
        "\n",
        "    morse_params = {\n",
        "      \"C\": {\"re\": 1.285943211152638, \"D\": 8.928283649952903, \"sig\": 0.9196510563637573},\n",
        "      \"Cu\": {\"re\": 2.2178539292118344, \"D\": 2.774711971071156, \"sig\": 1.7173014349824842},\n",
        "    }\n",
        "\n",
        "    training_params = {\n",
        "      \"uncertain_tol\": 0.05,\n",
        "      \"Gs\": Gs,\n",
        "      \"morse\": True,\n",
        "      \"morse_params\": morse_params,\n",
        "      \"forcetraining\": True,\n",
        "      \"cores\": 3,\n",
        "      \"optimizer\": torch.optim.LBFGS,\n",
        "      \"batch_size\": 1000,\n",
        "      \"criterion\": CustomMSELoss,\n",
        "      \"num_layers\": 3,\n",
        "      \"num_nodes\": 20,\n",
        "      \"force_coefficient\": 0.04,\n",
        "      \"learning_rate\": 1e-1,\n",
        "      \"epochs\": 300,\n",
        "      \"test_split\": 0,\n",
        "      \"shuffle\": False,\n",
        "      \"filename\": \"oal_test\",\n",
        "      \"verbose\": 0\n",
        "    }\n",
        "\n",
        "    structure_optim = Relaxation(slab, BFGS, fmax=0.05, steps=50)\n",
        "    online_calc = AMPOnlineCalc(parent_dataset=images, parent_calc=base_calc, n_ensembles=5, n_cores=2, training_params=training_params)\n",
        "    structure_optim.run(online_calc, filename='relax_oal')\n",
        "\n",
        "    # Calculate true relaxation\n",
        "    true_relax = Relaxation(slab, BFGS)\n",
        "    true_relax.run(copy.copy(base_calc), 'true_relax')\n",
        "    parent_calc_traj = true_relax.get_trajectory('true_relax', 0, -1, 1)\n",
        "    n_parent_calls = online_calc.parent_calls\n",
        "    final_oal_traj = ase.io.read(\"./relax_oal.traj\", \":\")\n",
        "\n",
        "    # Visualize Results\n",
        "\n",
        "    # Calculate true relaxation\n",
        "    parent_calc_traj = true_relax.get_trajectory('true_relax', 0, -1, 1)\n",
        "    n_parent_calls = online_calc.parent_calls\n",
        "    final_oal_traj = ase.io.read(\"./relax_oal.traj\", \":\")\n",
        "\n",
        "    #Compute ML predicted energies\n",
        "    ml_relaxation_energies = [image.get_potential_energy() for image in final_oal_traj]\n",
        "    #Compute actual (DFT) energies for ML predicted structures\n",
        "    dft_evaluated_ml_energies = [copy.copy(base_calc).get_potential_energy(image) for image in final_oal_traj]\n",
        "    #Compute actual energies for EMT relaxation structures\n",
        "    dft_relaxation_energies = [image.get_potential_energy() for image in parent_calc_traj]\n",
        "    ml_steps = range(len(final_oal_traj))\n",
        "    dft_steps = range(len(parent_calc_traj))\n",
        "\n",
        "    plt.plot(ml_steps, ml_relaxation_energies, '--b', label='OAL_relaxation')\n",
        "    plt.plot(ml_steps, dft_evaluated_ml_energies, '-g', label='DFT@OAL_relaxation')\n",
        "    plt.plot(dft_steps, dft_relaxation_energies, '-r', label='DFT_relaxation')\n",
        "    plt.xlabel(\"Steps\")\n",
        "    plt.ylabel(\"Energy, eV\")\n",
        "    plt.title('OAL vs DFT Relaxation')\n",
        "    plt.legend()\n",
        "    plt.show()\n",
        "\n",
        "    def compute_loss(a, b):\n",
        "      return np.mean(np.sqrt(np.sum((a - b)**2, axis=1)))\n",
        "\n",
        "    initial_structure = images[0].positions\n",
        "    print(f'Number of OAL steps: {len(final_oal_traj)}\\nTotal # of queries (DFT calls): {n_parent_calls} \\n')\n",
        "    print(f\"Final OAL Relaxed Energy: {ml_relaxation_energies[-1]}\")\n",
        "    print(f'DFT evaluation at AL structure: {dft_evaluated_ml_energies[-1]}\\n')\n",
        "    al_relaxed_structure = final_oal_traj[-1].positions\n",
        "\n",
        "    print(f'Total number of DFT steps: {len(dft_relaxation_energies)}')\n",
        "    print(f'Final DFT Relaxed Energy: {dft_relaxation_energies[-1]}\\n')\n",
        "    dft_relaxed_structure = parent_calc_traj[-1].positions\n",
        "\n",
        "\n",
        "    initial_structure_error = compute_loss(initial_structure, dft_relaxed_structure)\n",
        "    relaxed_structure_error = compute_loss(al_relaxed_structure, dft_relaxed_structure)\n",
        "\n",
        "    print(f'Initial structure error: {initial_structure_error}')\n",
        "    print(f'AL relaxed structure error: {relaxed_structure_error}')"
      ],
      "execution_count": 0,
      "outputs": []
    },
    {
      "cell_type": "code",
      "metadata": {
        "id": "x5d0qsFSwAdv",
        "colab_type": "code",
        "outputId": "e0238838-c5b3-4118-f445-f6cce1ae2b9b",
        "colab": {
          "base_uri": "https://localhost:8080/",
          "height": 1000
        }
      },
      "source": [
        "if __name__ == \"__main__\":\n",
        "  try:\n",
        "    mp.set_start_method(\"spawn\")\n",
        "  except:\n",
        "    if mp.get_start_method() == \"spawn\":\n",
        "      pass\n",
        "    else:\n",
        "      raise Exception('Wrong mp start method!')\n",
        "  main()"
      ],
      "execution_count": 0,
      "outputs": [
        {
          "output_type": "stream",
          "text": [
            "      Step     Time          Energy         fmax\n",
            "BFGS:    0 21:02:57   -66070.351562        2.8550\n",
            "BFGS:    1 21:02:57   -66070.515625        2.2924\n",
            "BFGS:    2 21:02:58   -66070.609375        1.5799\n",
            "BFGS:    3 21:08:41   -66070.760420        1.5630\n",
            "BFGS:    4 21:14:11   -66070.819587        0.6050\n",
            "BFGS:    5 21:21:33   -66070.839749        0.6152\n",
            "BFGS:    6 21:26:59   -66070.864411        0.7246\n",
            "BFGS:    7 21:31:19   -66070.886815        0.6184\n",
            "BFGS:    8 21:31:19   -66070.914062        0.4700\n",
            "BFGS:    9 21:35:33   -66070.918552        0.3228\n",
            "BFGS:   10 21:35:34   -66070.968750        0.2606\n",
            "BFGS:   11 21:39:58   -66070.943714        0.3403\n",
            "BFGS:   12 21:39:58   -66070.976562        0.1854\n",
            "BFGS:   13 21:39:59   -66070.976562        0.0741\n",
            "BFGS:   14 21:39:59   -66070.984375        0.0673\n",
            "BFGS:   15 21:39:59   -66070.976562        0.1447\n",
            "BFGS:   16 21:40:00   -66070.984375        0.0542\n",
            "BFGS:   17 21:40:00   -66070.984375        0.0478\n",
            "      Step     Time          Energy         fmax\n",
            "BFGS:    0 21:41:55   -66070.355359        2.8550\n",
            "BFGS:    1 21:43:50   -66070.533297        2.5521\n",
            "BFGS:    2 21:45:54   -66070.676462        2.0547\n",
            "BFGS:    3 21:47:36   -66070.773039        1.3348\n",
            "BFGS:    4 21:49:09   -66070.816056        0.4594\n",
            "BFGS:    5 21:50:45   -66070.825404        0.6645\n",
            "BFGS:    6 21:52:21   -66070.853150        0.9245\n",
            "BFGS:    7 21:53:56   -66070.881217        0.9927\n",
            "BFGS:    8 21:55:32   -66070.908617        0.8806\n",
            "BFGS:    9 21:57:07   -66070.929534        0.6708\n",
            "BFGS:   10 21:58:39   -66070.943999        0.3997\n",
            "BFGS:   11 22:00:13   -66070.952861        0.2213\n",
            "BFGS:   12 22:01:49   -66070.957529        0.1927\n",
            "BFGS:   13 22:03:23   -66070.964002        0.2296\n",
            "BFGS:   14 22:04:52   -66070.967761        0.2233\n",
            "BFGS:   15 22:06:24   -66070.970058        0.1297\n",
            "BFGS:   16 22:07:51   -66070.971722        0.0888\n",
            "BFGS:   17 22:09:22   -66070.973144        0.1570\n",
            "BFGS:   18 22:10:54   -66070.974963        0.1756\n",
            "BFGS:   19 22:12:26   -66070.976169        0.1100\n",
            "BFGS:   20 22:14:00   -66070.976482        0.0713\n",
            "BFGS:   21 22:15:34   -66070.976351        0.0689\n",
            "BFGS:   22 22:17:06   -66070.976375        0.0651\n",
            "BFGS:   23 22:18:38   -66070.975756        0.1151\n",
            "BFGS:   24 22:20:12   -66070.976725        0.0512\n",
            "BFGS:   25 22:21:49   -66070.976921        0.0256\n"
          ],
          "name": "stdout"
        },
        {
          "output_type": "display_data",
          "data": {
            "image/png": "[encoded data removed]",
            "text/plain": [
              "<Figure size 432x288 with 1 Axes>"
            ]
          },
          "metadata": {
            "tags": [],
            "needs_background": "light"
          }
        },
        {
          "output_type": "stream",
          "text": [
            "Number of OAL steps: 18\n",
            "Total # of queries (DFT calls): 7 \n",
            "\n",
            "Final OAL Relaxed Energy: -66070.984375\n",
            "DFT evaluation at AL structure: -66070.9743148228\n",
            "\n",
            "Total number of DFT steps: 25\n",
            "Final DFT Relaxed Energy: -66070.97672547949\n",
            "\n",
            "Initial structure error: 0.07725755396280275\n",
            "AL relaxed structure error: 0.009875360565910025\n"
          ],
          "name": "stdout"
        }
      ]
    }
  ]
}