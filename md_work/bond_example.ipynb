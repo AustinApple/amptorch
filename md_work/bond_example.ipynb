{
 "cells": [
  {
   "cell_type": "code",
   "execution_count": 64,
   "metadata": {},
   "outputs": [],
   "source": [
    "import ase\n",
    "import time\n",
    "import sys\n",
    "import torch\n",
    "from torch.nn import MSELoss\n",
    "from skorch import NeuralNetRegressor\n",
    "from skorch.dataset import CVSplit\n",
    "from skorch.callbacks import Checkpoint, EpochScoring\n",
    "from skorch.callbacks.lr_scheduler import LRScheduler\n",
    "from amp.descriptor.gaussian import Gaussian\n",
    "from amptorch.gaussian import SNN_Gaussian\n",
    "from amptorch.model import FullNN, CustomLoss\n",
    "from amptorch.data_preprocess import AtomsDataset, factorize_data, collate_amp, TestDataset\n",
    "from md_work.md_utils import md_run, calculate_energies, calculate_forces, time_plots, kde_plots, calculate_rmse\n",
    "from amptorch.skorch_model import AMP\n",
    "from amptorch.skorch_model.utils import target_extractor, energy_score, forces_score\n",
    "from amptorch.exp_repulsive import lj_optim\n",
    "from amptorch.lj_12_6 import lj_optim as lj_optim_12_6\n",
    "from amptorch.morse import lj_optim as lj_morse\n",
    "from torch.utils.data import DataLoader\n",
    "from torch.nn import init, ReLU\n",
    "from skorch.utils import to_numpy\n",
    "import numpy as np\n",
    "from ase import Atoms, units\n",
    "from ase.calculators.emt import EMT\n",
    "import seaborn as sns\n",
    "import skorch.callbacks.base\n",
    "\n",
    "%matplotlib inline"
   ]
  },
  {
   "cell_type": "code",
   "execution_count": 65,
   "metadata": {},
   "outputs": [],
   "source": [
    "# Define Training data\n",
    "distances = []\n",
    "energies = []\n",
    "forces = []\n",
    "distances = np.linspace(0.5, 12, 100)\n",
    "images = []\n",
    "\n",
    "label = \"bond_example\"\n",
    "for displacement in distances:\n",
    "    atoms = Atoms(\"CuCu\", [(0, 0, 0), (0, 0, displacement)])\n",
    "#     atoms.set_cell([10, 10, 10])\n",
    "#     atoms.wrap(pbc=True)\n",
    "    atoms.set_calculator(EMT())\n",
    "    energy = atoms.get_potential_energy(apply_constraint=False)\n",
    "    force = atoms.get_forces(apply_constraint=False)\n",
    "    energies.append(energy)\n",
    "    forces.append(force)\n",
    "    images.append(atoms)\n",
    "\n",
    "energies = np.array(energies)\n",
    "forces = np.concatenate(np.array(forces))\n",
    "\n",
    "training_images = [images[i] for i in training_idx]\n",
    "training_energies = energies[training_idx]\n",
    "training_distances = distances[training_idx]"
   ]
  },
  {
   "cell_type": "code",
   "execution_count": 66,
   "metadata": {},
   "outputs": [
    {
     "name": "stdout",
     "output_type": "stream",
     "text": [
      "3.822986810108725\n",
      "2.1262626262626263\n",
      "1.7777777777777777\n"
     ]
    }
   ],
   "source": [
    "def morse_parameters(images):\n",
    "    D = energies[-1] - np.min(energies)\n",
    "    print(D)\n",
    "    re = distances[np.argwhere(energies == np.min(energies))].squeeze()\n",
    "    print(re)\n",
    "    sig = distances[np.argwhere(energies-energies[-1]<= 1e-2)].squeeze()[0]\n",
    "    print(sig)\n",
    "    \n",
    "morse_parameters(images)"
   ]
  },
  {
   "cell_type": "code",
   "execution_count": 67,
   "metadata": {},
   "outputs": [
    {
     "name": "stderr",
     "output_type": "stream",
     "text": [
      "No handles with labels found to put in legend.\n"
     ]
    },
    {
     "data": {
      "text/plain": [
       "<matplotlib.legend.Legend at 0x7f9202822a90>"
      ]
     },
     "execution_count": 67,
     "metadata": {},
     "output_type": "execute_result"
    },
    {
     "data": {
      "image/png": "[encoded data removed]",
      "text/plain": [
       "<Figure size 1080x720 with 1 Axes>"
      ]
     },
     "metadata": {
      "needs_background": "light"
     },
     "output_type": "display_data"
    }
   ],
   "source": [
    "import matplotlib.pyplot as plt\n",
    "%matplotlib inline\n",
    "fig, ax1 = plt.subplots(figsize=(15,10))\n",
    "ax1.set_xlabel(r\"Distance, $\\AA$\", fontsize=32)\n",
    "ax1.set_ylabel(\"Energy, eV\", color=\"k\", fontsize=32)\n",
    "ax1.plot(distances, energies, color=\"k\", linewidth=3)\n",
    "ax1.set_ylim(top=15)\n",
    "ax1.tick_params(axis=\"both\", labelsize=28)\n",
    "plt.legend(fontsize=18)"
   ]
  },
  {
   "cell_type": "code",
   "execution_count": null,
   "metadata": {},
   "outputs": [],
   "source": [
    "def parity_plots(x, y, xlabel, ylabel, title, num_atoms, dtype=\"energy\"):\n",
    "    if dtype == \"energy\":\n",
    "        rmse = calculate_rmse(x, y, num_atoms, dtype=dtype)\n",
    "        text = f\"RMSE: {rmse:.6f}eV/atom\"\n",
    "        lims = [0, 10]\n",
    "    else:\n",
    "        rmse = calculate_rmse(x, y, num_atoms, dtype=dtype)\n",
    "        x = np.concatenate(np.array(x))\n",
    "        y = np.concatenate(np.array(y))\n",
    "        text = f\"RMSE: {rmse:.6f}eV/A\"\n",
    "        lims = [-5, 5]\n",
    "    grid = sns.jointplot(y, x)\n",
    "    ax = grid.ax_joint\n",
    "    _ = ax.set_xlim(lims)\n",
    "    _ = ax.set_ylim(lims)\n",
    "    _ = ax.plot(lims, lims, '--')\n",
    "    _ = ax.set_ylabel(xlabel)\n",
    "    _ = ax.set_xlabel(ylabel)\n",
    "    _ = ax.text(x=lims[1], y=lims[0], s=title,\n",
    "                horizontalalignment='right',\n",
    "                verticalalignment='bottom',\n",
    "                fontsize=14)\n",
    "    _ = ax.text(x=lims[0], y=lims[1], s=text,\n",
    "                horizontalalignment='left',\n",
    "                verticalalignment='top',\n",
    "                fontsize=14)"
   ]
  },
  {
   "cell_type": "code",
   "execution_count": null,
   "metadata": {},
   "outputs": [],
   "source": [
    "# define symmetry functions to be used\n",
    "Gs = {}\n",
    "Gs[\"G2_etas\"] = np.logspace(np.log10(0.05), np.log10(5.0), num=4)\n",
    "Gs[\"G2_rs_s\"] = [0] * 4\n",
    "Gs[\"G4_etas\"] = [0.005]\n",
    "Gs[\"G4_zetas\"] = [1.0, 4.0]\n",
    "Gs[\"G4_gammas\"] = [+1.0, -1]\n",
    "Gs[\"cutoff\"] = 5.876798323827276 #EMT asap_cutoff: False"
   ]
  },
  {
   "cell_type": "code",
   "execution_count": null,
   "metadata": {},
   "outputs": [],
   "source": [
    "# Define Training data\n",
    "distances = []\n",
    "energies = []\n",
    "forces = []\n",
    "distances = np.linspace(1, 7, 100)\n",
    "images = []\n",
    "\n",
    "label = \"bond_example\"\n",
    "for displacement in distances:\n",
    "    atoms = Atoms(\"CuCu\", [(0, 0, 0), (0, 0, displacement)])\n",
    "    atoms.set_cell([10, 10, 10])\n",
    "    atoms.wrap(pbc=True)\n",
    "    atoms.set_calculator(EMT())\n",
    "    energy = atoms.get_potential_energy(apply_constraint=False)\n",
    "    force = atoms.get_forces(apply_constraint=False)\n",
    "    energies.append(energy)\n",
    "    forces.append(force)\n",
    "    images.append(atoms)\n",
    "\n",
    "energies = np.array(energies)\n",
    "forces = np.concatenate(np.array(forces))\n",
    "\n",
    "training_idx = np.array([6, 7, 8, 9, 10, 12, 14, 16,])\n",
    "# training_idx = np.array([0, 99])\n",
    "training_images = [images[i] for i in training_idx]\n",
    "training_energies = energies[training_idx]\n",
    "training_distances = distances[training_idx]"
   ]
  },
  {
   "cell_type": "code",
   "execution_count": null,
   "metadata": {},
   "outputs": [],
   "source": [
    "def train(training_images, forcesonly=False, fit=False, p0=None, lj=None, method='Nelder-Mead', combo=None):\n",
    "    lj_data = None\n",
    "    scaling = None\n",
    "    if lj is not None:\n",
    "        params_dict = {\"Cu\": [], \"C\": []}\n",
    "        cutoff = Gs[\"cutoff\"]\n",
    "        if lj == 'rep':\n",
    "            lj_model = lj_optim(images, p0, params_dict, cutoff, label, forcesonly=forcesonly)\n",
    "            lj_model = lj_optim(training_images, p0, params_dict, cutoff, \"test\", forcesonly=forcesonly)\n",
    "        elif lj == '12_6':\n",
    "            lj_model = lj_optim_12_6(images, p0, params_dict, cutoff, label, forcesonly=forcesonly)\n",
    "            lj_model = lj_optim_12_6(training_images, p0, params_dict, cutoff, \"test\", forcesonly=forcesonly)\n",
    "        elif lj == 'morse':\n",
    "            lj_model = lj_morse(images, p0, params_dict, cutoff, label, combo=combo)\n",
    "            lj_model = lj_morse(training_images, p0, params_dict, cutoff, \"test\", combo=combo)\n",
    "        \n",
    "        if fit:\n",
    "            fitted_params = lj_model.fit(method=method)\n",
    "        else:\n",
    "            fitted_params = p0\n",
    "\n",
    "        lj_energies, lj_forces, num_atoms = lj_model.lj_pred(training_images, fitted_params, params_dict)\n",
    "        lj_data = [lj_energies, lj_forces, num_atoms, fitted_params, params_dict, lj_model]\n",
    "\n",
    "        lj_energy_pred, lj_force_pred, _ = lj_model.lj_pred(images, fitted_params, params_dict)\n",
    "        scaling = \"rel\"\n",
    "\n",
    "    forcetraining = True\n",
    "    training_data = AtomsDataset(training_images, SNN_Gaussian, Gs, forcetraining=forcetraining,\n",
    "            label=label, cores=4, lj_data=lj_data, scaling=scaling)\n",
    "    unique_atoms = training_data.elements\n",
    "    fp_length = training_data.fp_length\n",
    "    device = \"cpu\"\n",
    "\n",
    "    net = NeuralNetRegressor(\n",
    "        module=FullNN(unique_atoms, [fp_length, 3, 20], device, forcetraining=forcetraining),\n",
    "        criterion=CustomLoss,\n",
    "        criterion__force_coefficient=0.04,\n",
    "        optimizer=torch.optim.LBFGS,\n",
    "        optimizer__line_search_fn=\"strong_wolfe\",\n",
    "        lr=1e-1,\n",
    "        batch_size=len(training_data),\n",
    "        max_epochs=300,\n",
    "        iterator_train__collate_fn=collate_amp,\n",
    "        iterator_train__shuffle=False,\n",
    "        iterator_valid__collate_fn=collate_amp,\n",
    "        device=device,\n",
    "        train_split= 0,\n",
    "        callbacks=[\n",
    "            EpochScoring(\n",
    "                forces_score,\n",
    "                on_train=True,\n",
    "                use_caching=True,\n",
    "                target_extractor=target_extractor,\n",
    "            ),\n",
    "            EpochScoring(\n",
    "                energy_score,\n",
    "                on_train=True,\n",
    "                use_caching=True,\n",
    "                target_extractor=target_extractor,\n",
    "            ),\n",
    "        ],\n",
    "    )\n",
    "\n",
    "    calc = AMP(training_data, net, label)\n",
    "    calc.train()\n",
    "\n",
    "    ml_delta_e_pred = [calc.get_potential_energy(image) for image in images]\n",
    "    ml_delta_f_pred = [calc.get_forces(image) for image in images]\n",
    "    \n",
    "    if lj is None:\n",
    "        return ml_delta_e_pred, ml_delta_f_pred\n",
    "    else:\n",
    "        return ml_delta_e_pred, ml_delta_f_pred, lj_energy_pred, lj_force_pred, fitted_params"
   ]
  },
  {
   "cell_type": "code",
   "execution_count": null,
   "metadata": {
    "scrolled": true
   },
   "outputs": [],
   "source": [
    "# ML Only\n",
    "ml_pred, ml_forces = train(training_images)"
   ]
  },
  {
   "cell_type": "code",
   "execution_count": null,
   "metadata": {},
   "outputs": [],
   "source": [
    "method = 'TNC'\n",
    "forcesonly = False\n",
    "fit = False"
   ]
  },
  {
   "cell_type": "code",
   "execution_count": null,
   "metadata": {
    "scrolled": true
   },
   "outputs": [],
   "source": [
    "# Repulsive-exp()\n",
    "p0 = [  2.168,\n",
    "        3.8386,\n",
    "        0.972,\n",
    "        6.379,\n",
    "        12\n",
    "    ]\n",
    "\n",
    "mllj_rep_pred, mllj_rep_forces, lj_test_rep, lj_test_rep_force, rep_p0 =  train(\n",
    "    training_images, forcesonly=forcesonly, fit=fit, p0=p0, lj='rep', method=method\n",
    ")\n",
    "\n",
    "print(rep_p0)"
   ]
  },
  {
   "cell_type": "code",
   "execution_count": null,
   "metadata": {
    "scrolled": true
   },
   "outputs": [],
   "source": [
    "# LJ 12-6\n",
    "p0 = [  1.696,\n",
    "        3.8386,\n",
    "        0.477,\n",
    "        6.379,\n",
    "    ]\n",
    "\n",
    "mllj_12_6_pred, mllj_12_6_forces, lj_test_12_6, lj_test_12_6_force, lj_12_6_p0 =  train(\n",
    "    training_images, forcesonly=forcesonly, fit=fit, p0=p0, lj='12_6', method=method\n",
    ")\n",
    "\n",
    "print(lj_12_6_p0)"
   ]
  },
  {
   "cell_type": "code",
   "execution_count": null,
   "metadata": {
    "scrolled": true
   },
   "outputs": [],
   "source": [
    "# Morse\n",
    "p0 = [  2.168,\n",
    "        3.8386,\n",
    "        1.696,\n",
    "        0.972,\n",
    "        6.379,\n",
    "        0.477,\n",
    "    ]\n",
    "\n",
    "mllj_morse_pred, mllj_morse_forces, lj_test_morse, lj_test_morse_force, lj_morse_p0 =  train(\n",
    "    training_images, p0=p0, lj='morse', combo='yang', \n",
    ")\n",
    "\n",
    "print(lj_morse_p0)"
   ]
  },
  {
   "cell_type": "code",
   "execution_count": null,
   "metadata": {
    "scrolled": false
   },
   "outputs": [],
   "source": [
    "import matplotlib.pyplot as plt\n",
    "%matplotlib inline\n",
    "fig, ax1 = plt.subplots(figsize=(15,10))\n",
    "ax1.set_xlabel(r\"Distance, $\\AA$\", fontsize=32)\n",
    "ax1.set_ylabel(\"Energy, eV\", color=\"k\", fontsize=32)\n",
    "ax1.plot(distances, energies, color=\"k\", linewidth=3)\n",
    "ax1.plot(training_distances, training_energies, \"ro\", label=\"train data\", markersize=8)\n",
    "# ax1.plot(distances, ml_pred, \"m\", label=\"ML\", linewidth=3)\n",
    "# ax1.plot(distances, mllj_rep_pred, \"--g\", label=\"ML-LJ repulsive\", linewidth=3)\n",
    "# ax1.plot(distances, mllj_12_6_pred, \"--y\", label=\"ML-LJ 12-6\", linewidth=3)\n",
    "ax1.plot(distances, mllj_morse_pred, \"--r\", label=\"ML-LJ morse\", linewidth=3)\n",
    "# ax1.plot(distances, lj_test_rep, \"-g\", label=\"exp-repulsive\", linewidth=3)\n",
    "# ax1.plot(distances, lj_test_12_6, \"-y\", label=\"LJ 12-6\", linewidth=3)\n",
    "ax1.plot(distances, lj_test_morse, \"-r\", label=\"Morse\", linewidth=3)\n",
    "ax1.set_ylim(top=15)\n",
    "ax1.set_ylim(bottom=-15)\n",
    "ax1.tick_params(axis=\"both\", labelsize=28)\n",
    "plt.legend(fontsize=18)"
   ]
  }
 ],
 "metadata": {
  "kernelspec": {
   "display_name": "Python 3",
   "language": "python",
   "name": "python3"
  },
  "language_info": {
   "codemirror_mode": {
    "name": "ipython",
    "version": 3
   },
   "file_extension": ".py",
   "mimetype": "text/x-python",
   "name": "python",
   "nbconvert_exporter": "python",
   "pygments_lexer": "ipython3",
   "version": "3.7.4"
  }
 },
 "nbformat": 4,
 "nbformat_minor": 2
}
