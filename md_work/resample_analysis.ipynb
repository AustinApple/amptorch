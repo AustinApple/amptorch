{
 "cells": [
  {
   "cell_type": "code",
   "execution_count": 1,
   "metadata": {},
   "outputs": [],
   "source": [
    "from ase import io\n",
    "import random\n",
    "import seaborn as sns\n",
    "from ase.calculators.emt import EMT\n",
    "import numpy as np\n",
    "import matplotlib\n",
    "from matplotlib import pyplot as plt\n",
    "from amptorch.data_preprocess import AtomsDataset\n",
    "from amptorch.gaussian import SNN_Gaussian\n",
    "from scipy.spatial import distance\n",
    "from sklearn.metrics import pairwise\n",
    "import scipy\n",
    "\n",
    "\n",
    "%matplotlib inline"
   ]
  },
  {
   "cell_type": "code",
   "execution_count": 2,
   "metadata": {},
   "outputs": [],
   "source": [
    "def pair_distance(base_fps, compared_fps, distance_type=\"cosine\"):\n",
    "    if distance_type==\"cosine\":\n",
    "        base_distances = 1 - pairwise.cosine_similarity(base_fps, base_fps)\n",
    "        compared_distances = 1 - pairwise.cosine_similarity(compared_fps, compared_fps)\n",
    "    elif distance_type==\"RBF\":\n",
    "        scale = 55\n",
    "        base_distances = scipy.exp(-distance.cdist(base_fps, base_fps, 'sqeuclidean') / scale**2)\n",
    "        compared_distances = scipy.exp(-distance.cdist(compared_fps, compared_fps, 'sqeuclidean') / scale**2)\n",
    "    sns.distplot(base_distances.flatten(), kde=False, norm_hist=True, label='train')\n",
    "    sns.distplot(compared_distances.flatten(), kde=False, norm_hist=True, label='MLMD')\n",
    "\n",
    "def fingerprint_array(dataset):\n",
    "    fp_length = dataset.fp_length\n",
    "    fingerprints = dataset.fingerprint_dataset\n",
    "    num_atoms = len(fingerprints[0])\n",
    "    fp_array = np.empty((len(fingerprints), num_atoms*fp_length))\n",
    "    for idx, image in enumerate(fingerprints):\n",
    "        i = 0\n",
    "        for atom in image:\n",
    "            fp_array[idx, i:fp_length+i] = atom[1]\n",
    "            i += fp_length\n",
    "    return fp_array\n",
    "\n",
    "def distance_resampled(base_images, compare_images, Gs, distance_metric='cosine'):\n",
    "    forcetraining = False\n",
    "    \n",
    "    base_training_data = AtomsDataset(\n",
    "    base_images,\n",
    "    SNN_Gaussian,\n",
    "    Gs,\n",
    "    forcetraining=forcetraining,\n",
    "    label='label',\n",
    "    cores=4,\n",
    "    lj_data=None,\n",
    "    scaling=None,\n",
    "    )\n",
    "    \n",
    "    base_fps = fingerprint_array(base_training_data)\n",
    "    if distance_metric == 'cosine':\n",
    "        base_distances = 1 - pairwise.cosine_similarity(base_fps, base_fps)\n",
    "    elif distance_metric == 'RBF':\n",
    "        scale = 55\n",
    "        base_distances = scipy.exp(-distance.cdist(base_fps, base_fps, 'sqeuclidean') / scale**2)\n",
    "        \n",
    "    sns.distplot(base_distances.flatten(), kde=False, norm_hist=True)\n",
    "    \n",
    "    compare_training_data = AtomsDataset(\n",
    "    compare_images,\n",
    "    SNN_Gaussian,\n",
    "    Gs,\n",
    "    forcetraining=forcetraining,\n",
    "    label='label',\n",
    "    cores=4,\n",
    "    lj_data=None,\n",
    "    scaling=None,\n",
    "    )\n",
    "    compare_fingerprints = fingerprint_array(compare_training_data)\n",
    "    \n",
    "    if distance_metric == 'cosine':\n",
    "        compare_distances = 1 - pairwise.cosine_similarity(compare_fingerprints, compare_fingerprints)\n",
    "    elif distance_metric == 'RBF':\n",
    "        compare_distances = scipy.exp(-distance.cdist(compare_fingerprints, compare_fingerprints, 'sqeuclidean') / scale**2)\n",
    "    sns.distplot(compare_distances.flatten(), kde=False, norm_hist=True, label=str(1))\n",
    "\n",
    "    if distance_metric == 'cosine':\n",
    "        plt.xlabel('pairwise-cosine distances')\n",
    "    elif distance_metric == 'RBF':\n",
    "        plt.xlabel('pairwise-RBF distances')\n",
    "    plt.ylabel('Normalized count')\n",
    "    plt.legend()"
   ]
  },
  {
   "cell_type": "code",
   "execution_count": 5,
   "metadata": {},
   "outputs": [],
   "source": [
    "base_images = io.read(\"../datasets/COCu_ber_100ps_300K.traj\", \":2000\")\n",
    "compare_images = io.read(\"./new_runs/success/COCu_rep_200_5000_LJ.traj\", \":2000\")\n",
    "\n",
    "Gs = {}\n",
    "Gs[\"G2_etas\"] = np.logspace(np.log10(0.05), np.log10(5.0), num=4)\n",
    "Gs[\"G2_rs_s\"] = [0] * 4\n",
    "Gs[\"G4_etas\"] = [0.005]\n",
    "Gs[\"G4_zetas\"] = [1.0, 4.0]\n",
    "Gs[\"G4_gammas\"] = [+1.0, -1]\n",
    "Gs[\"cutoff\"] = 5.876798323827276"
   ]
  },
  {
   "cell_type": "code",
   "execution_count": null,
   "metadata": {},
   "outputs": [
    {
     "name": "stdout",
     "output_type": "stream",
     "text": [
      "Calculating fingerprints...\n"
     ]
    }
   ],
   "source": [
    "distance_resampled(base_images, compare_images, Gs, \"cosine\")"
   ]
  }
 ],
 "metadata": {
  "kernelspec": {
   "display_name": "Python 3",
   "language": "python",
   "name": "python3"
  },
  "language_info": {
   "codemirror_mode": {
    "name": "ipython",
    "version": 3
   },
   "file_extension": ".py",
   "mimetype": "text/x-python",
   "name": "python",
   "nbconvert_exporter": "python",
   "pygments_lexer": "ipython3",
   "version": "3.7.4"
  }
 },
 "nbformat": 4,
 "nbformat_minor": 2
}
